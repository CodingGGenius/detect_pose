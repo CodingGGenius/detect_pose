{
 "cells": [
  {
   "cell_type": "code",
   "execution_count": 2,
   "id": "179f0928-b33f-4321-8c76-1d5335673d07",
   "metadata": {},
   "outputs": [],
   "source": [
    "# !pip install opencv-python\n",
    "# !pip install numpy\n",
    "# !pip install mediapipe opencv-python\n",
    "# !pip install pandas\n",
    "# !pip install xmltodict\n",
    "# !pip install lxml"
   ]
  },
  {
   "cell_type": "code",
   "execution_count": 6,
   "id": "1a0fd140-9e38-4dfd-8d09-6de935f291ca",
   "metadata": {},
   "outputs": [],
   "source": [
    "import cv2\n",
    "import mediapipe as mp\n",
    "import numpy as np\n",
    "import matplotlib.pyplot as plt\n",
    "import pandas as pd\n",
    "\n",
    "#mediapipe\n",
    "mp_drawing = mp.solutions.drawing_utils\n",
    "mp_pose = mp.solutions.pose\n",
    "\n",
    "# Yolo 로드\n",
    "net = cv2.dnn.readNet(\"yolov3.weights\", \"yolov3.cfg\")\n",
    "classes = []\n",
    "with open(\"coco.names\", \"r\") as f:\n",
    "    classes = [line.strip() for line in f.readlines()]\n",
    "layer_names = net.getLayerNames()\n",
    "output_layers = [layer_names[i[0] - 1] for i in net.getUnconnectedOutLayers()]"
   ]
  },
  {
   "cell_type": "markdown",
   "id": "ee84189b-8bc7-42eb-ae5d-0267bc919050",
   "metadata": {},
   "source": [
    "## XML 정보 불러오기"
   ]
  },
  {
   "cell_type": "code",
   "execution_count": 7,
   "id": "15418cd2-95ce-4638-8975-6bdc57a8fedc",
   "metadata": {},
   "outputs": [],
   "source": [
    "from lxml import etree\n",
    "from PIL import Image\n",
    "import xmltodict, cv2, os\n",
    "import xml.etree.ElementTree as ET"
   ]
  },
  {
   "cell_type": "code",
   "execution_count": 68,
   "id": "5748a49d-3e56-42a0-bbcb-5a39697123f7",
   "metadata": {},
   "outputs": [],
   "source": [
    "#xml 파일 불러옴\n",
    "def load_xmldata(video_name):\n",
    "    xml_file = '{0}.xml'.format(video_name)\n",
    "    doc = ET.parse(xml_file)\n",
    "    root = doc.getroot()\n",
    "    frame_list = []\n",
    "    action_list = []\n",
    "    action_name = ['normal']\n",
    "\n",
    "    action_list=root.findall(\"./object/action\")\n",
    "    for i in action_list:\n",
    "        for frame in i.findall(\"frame\"):\n",
    "            frame_list.append([i.find(\"actionname\").text, int(frame.find(\"start\").text), int(frame.find(\"end\").text)])\n",
    "    for action in root.iter(\"action\"):\n",
    "        action_name.append(action.find(\"actionname\").text)\n",
    "        \n",
    "    make_dir(video_name, action_name)\n",
    "    return frame_list"
   ]
  },
  {
   "cell_type": "code",
   "execution_count": 70,
   "id": "22021194-9187-4564-8793-84e2518da07b",
   "metadata": {},
   "outputs": [],
   "source": [
    "def frame_cutting(video_dir, frame_list):\n",
    "    vidcap = cv2.VideoCapture(video_dir)\n",
    "    root_path = ntpath.basename(video_dir)\n",
    "    \n",
    "    count = 1\n",
    "    success = True\n",
    "\n",
    "    while success:\n",
    "        try:\n",
    "            success, image = vidcap.read()\n",
    "            if(int(vidcap.get(1)) % 1 == 0):\n",
    "                #print('Saved frame number : ' + str(int(vidcap.get(1))))\n",
    "                count += 1\n",
    "                for i in frame_list:\n",
    "                    if i[1]<= count and count <= i[2]:\n",
    "                        cv2.imwrite(\"{0}/{1}/{2}.jpg\".format(root_path, i[0], count), image)\n",
    "#                         print('Saved frame%d.jpg' % count)\n",
    "                    else: continue\n",
    "        except: pass\n",
    "    vidcap.release()"
   ]
  },
  {
   "cell_type": "markdown",
   "id": "98a53e6a-e18a-4374-a7f6-074d1a235d8e",
   "metadata": {},
   "source": [
    "## 폴더 생성"
   ]
  },
  {
   "cell_type": "code",
   "execution_count": 50,
   "id": "9069f6f0-0de0-4c25-8aa8-9eac99586d8a",
   "metadata": {},
   "outputs": [],
   "source": [
    "#name 폴더 만들기\n",
    "def make_dir(root_dir, dir_name):\n",
    "    folder_list = []\n",
    "    for i in dir_name:\n",
    "        try: \n",
    "            if i not in folder_list:\n",
    "#                 print(\"./{0}/{1}\".format(root_dir, dir_name))\n",
    "                os.makedirs(\"./{0}/{1}\".format(root_dir, dir_name))\n",
    "                folder_list.append(dir_name)\n",
    "\n",
    "        except:\n",
    "            pass\n",
    "    return folder_list"
   ]
  },
  {
   "cell_type": "markdown",
   "id": "f01e5c05-61e7-448a-a0ba-e623dae586a3",
   "metadata": {},
   "source": [
    "## 파일 검색"
   ]
  },
  {
   "cell_type": "code",
   "execution_count": 59,
   "id": "e977c428-e6aa-40ea-a849-b3a7d110bca5",
   "metadata": {},
   "outputs": [],
   "source": [
    "import pathlib\n",
    "import os\n",
    "import ntpath\n",
    "\n",
    "def find_file_fullname(fileDir):\n",
    "    file_name = []\n",
    "    for name in os.listdir(fileDir):\n",
    "        file_name.append(fileDir + name)\n",
    "    return file_name\n",
    "\n",
    "def find_mp4(fileDir, fileExt):\n",
    "    video_name = []\n",
    "    for name in pathlib.Path(fileDir).glob(fileExt):\n",
    "        video_name.append(str(name))\n",
    "    return video_name\n",
    "\n",
    "def path_to_filename(fileDir):\n",
    "    file_name = []\n",
    "    for name in fileDir:\n",
    "        file_name.append(ntpath.basename(name))\n",
    "    return file_name"
   ]
  },
  {
   "cell_type": "markdown",
   "id": "9433ddc0-03c0-4a82-8b45-89731dde17e8",
   "metadata": {},
   "source": [
    "## csv 쓰기"
   ]
  },
  {
   "cell_type": "code",
   "execution_count": null,
   "id": "d615be99-2c7e-4573-9037-7a3efbc3e165",
   "metadata": {},
   "outputs": [],
   "source": [
    "#미완\n",
    "\n",
    "def w_csv(video_name, row):\n",
    "    f = open('{0}_landmark.csv'.format(video_name),'w', newline='')\n",
    "    wr = csv.writer(f)\n",
    "    wr.writerow(row)\n",
    "    f.close()\n",
    "\n",
    "#     f = open('landmark.csv','a', newline='')\n",
    "#     wr = csv.writer(f)\n",
    "#     wr.writerow([3,'최번개', '강원'])\n",
    "#     f.close()"
   ]
  },
  {
   "cell_type": "code",
   "execution_count": null,
   "id": "b97657a3-11f4-453e-899b-c5abbd6cf8c2",
   "metadata": {},
   "outputs": [],
   "source": [
    "img = cv2.imread(\"C:/Users/BVer/are_you_ok/img/pose10.jpg\")\n",
    "#img = cv2.resize(img, None, fx=0.4, fy=0.4)\n",
    "height, width, channels = img.shape\n",
    "def pose_detect(img):\n",
    "    img.flags.writeable = True\n",
    "    img = cv2.cvtColor(img, cv2.COLOR_RGB2BGR)\n",
    "\n",
    "    blob = cv2.dnn.blobFromImage(img, 0.00392, (512, 512), (0, 0, 0), True, crop=False)\n",
    "    net.setInput(blob)\n",
    "    outs = net.forward(output_layers)\n",
    "\n",
    "    class_ids = []\n",
    "    confidences = []\n",
    "    boxes = []\n",
    "    for out in outs: #yolo object detect\n",
    "        for detection in out:\n",
    "            scores = detection[5:]\n",
    "            class_id = np.argmax(scores)\n",
    "            confidence = scores[class_id]\n",
    "            if confidence > 0.5:\n",
    "                # Object detected\n",
    "                center_x = int(detection[0] * width)\n",
    "                center_y = int(detection[1] * height)\n",
    "                w = int(detection[2] * width)\n",
    "                h = int(detection[3] * height)\n",
    "                # 좌표\n",
    "                x = int(center_x - w / 2)\n",
    "                y = int(center_y - h / 2)\n",
    "                boxes.append([x, y, w, h])\n",
    "                confidences.append(float(confidence))\n",
    "                class_ids.append(class_id)\n",
    "\n",
    "    indexes = cv2.dnn.NMSBoxes(boxes, confidences, 0.5, 0.4)\n",
    "\n",
    "    new_img = img\n",
    "    for i in range(len(boxes)):\n",
    "        if i in indexes:\n",
    "            x, y, w, h = boxes[i]\n",
    "            label = str(classes[class_ids[i]])\n",
    "            if(label == 'person'):\n",
    "                #frame = img[y:y+h, x:x+w]\n",
    "                frame = img[y-3:y+h+6, x-3:x+w+6]\n",
    "                \n",
    "                #mediapipe pose detect on yolo object frame\n",
    "                with mp_pose.Pose(model_complexity=2, min_detection_confidence=0.5, min_tracking_confidence=0.5) as pose:\n",
    "                    # Recolor image to RGB\n",
    "                    smallimg = cv2.cvtColor(frame, cv2.COLOR_BGR2RGB)\n",
    "                    smallimg.flags.writeable = False\n",
    "\n",
    "                    # Make detection\n",
    "                    results = pose.process(smallimg)\n",
    "\n",
    "                    # Render detections\n",
    "                    #mp_drawing.draw_landmarks(smallimg, results.pose_landmarks, mp_pose.POSE_CONNECTIONS) #조각별로 보기\n",
    "                    paint_landmark(results.pose_landmarks, x, y, w, h, width, height)\n",
    "                    mp_drawing.draw_landmarks(new_img, results.pose_landmarks, mp_pose.POSE_CONNECTIONS)\n",
    "#                     plt.imshow(smallimg)\n",
    "#                     plt.show()\n",
    "#     plt.imshow(new_img)\n",
    "#     plt.show()\n",
    "\n",
    "        #Recolor back to BGR plt로 출력할땐 주석처리\n",
    "    new_img.flags.writeable = True\n",
    "    new_img = cv2.cvtColor(new_img, cv2.COLOR_RGB2BGR)\n",
    "    return new_img\n",
    "\n",
    "\n",
    "    new_filename = '112'\n",
    "    cv2.imwrite('new_img/{0}.jpg'.format(new_filename), new_img)"
   ]
  },
  {
   "cell_type": "code",
   "execution_count": null,
   "id": "7d32760b-bc96-4646-b6dc-ef0419e4bbce",
   "metadata": {},
   "outputs": [],
   "source": [
    "def paint_landmark(landmarks, x, y, w, h, ori_w, ori_h):\n",
    "    marks = []\n",
    "    for lndmrk in mp_pose.PoseLandmark:\n",
    "        try:\n",
    "            if landmarks.landmark[lndmrk.value].visibility >= 0.5: #min_detection_confidence\n",
    "                landmarks.landmark[lndmrk.value].x = ((x - 3) + (w + 6) * landmarks.landmark[lndmrk.value].x)/ori_w\n",
    "                \n",
    "                landmarks.landmark[lndmrk.value].y = ((y - 3) + (h + 6) * landmarks.landmark[lndmrk.value].y)/ori_h\n",
    "                \n",
    "        except:\n",
    "            pass"
   ]
  },
  {
   "cell_type": "markdown",
   "id": "67be0ce9-4f59-4f39-b116-0ac7504324fd",
   "metadata": {},
   "source": [
    "# 파일별 폴더 생성"
   ]
  },
  {
   "cell_type": "code",
   "execution_count": null,
   "id": "7c5d0833-853c-4a96-a347-2a68e8db6152",
   "metadata": {
    "tags": []
   },
   "outputs": [
    {
     "name": "stdout",
     "output_type": "stream",
     "text": [
      "./C:/Users/BVer/are_you_ok/video/assult/insidedoor_01/10-1/['10-1_cam01_assault03_place07_night_spring.mp4', '10-1_cam01_assault03_place07_night_summer.mp4', '10-1_cam01_assault03_place07_night_winter.mp4', '10-1_cam02_assault03_place07_night_spring.mp4', '10-1_cam02_assault03_place07_night_summer.mp4', '10-1_cam02_assault03_place07_night_winter.mp4', '10-1_cam03_assault03_place07_night_spring.mp4', '10-1_cam03_assault03_place07_night_summer.mp4', '10-1_cam03_assault03_place07_night_winter.mp4']\n",
      "./C:/Users/BVer/are_you_ok/video/assult/insidedoor_01/10-1/['10-1_cam01_assault03_place07_night_spring.mp4', '10-1_cam01_assault03_place07_night_summer.mp4', '10-1_cam01_assault03_place07_night_winter.mp4', '10-1_cam02_assault03_place07_night_spring.mp4', '10-1_cam02_assault03_place07_night_summer.mp4', '10-1_cam02_assault03_place07_night_winter.mp4', '10-1_cam03_assault03_place07_night_spring.mp4', '10-1_cam03_assault03_place07_night_summer.mp4', '10-1_cam03_assault03_place07_night_winter.mp4']\n",
      "./C:/Users/BVer/are_you_ok/video/assult/insidedoor_01/10-1/['10-1_cam01_assault03_place07_night_spring.mp4', '10-1_cam01_assault03_place07_night_summer.mp4', '10-1_cam01_assault03_place07_night_winter.mp4', '10-1_cam02_assault03_place07_night_spring.mp4', '10-1_cam02_assault03_place07_night_summer.mp4', '10-1_cam02_assault03_place07_night_winter.mp4', '10-1_cam03_assault03_place07_night_spring.mp4', '10-1_cam03_assault03_place07_night_summer.mp4', '10-1_cam03_assault03_place07_night_winter.mp4']\n",
      "./C:/Users/BVer/are_you_ok/video/assult/insidedoor_01/10-1/['10-1_cam01_assault03_place07_night_spring.mp4', '10-1_cam01_assault03_place07_night_summer.mp4', '10-1_cam01_assault03_place07_night_winter.mp4', '10-1_cam02_assault03_place07_night_spring.mp4', '10-1_cam02_assault03_place07_night_summer.mp4', '10-1_cam02_assault03_place07_night_winter.mp4', '10-1_cam03_assault03_place07_night_spring.mp4', '10-1_cam03_assault03_place07_night_summer.mp4', '10-1_cam03_assault03_place07_night_winter.mp4']\n",
      "./C:/Users/BVer/are_you_ok/video/assult/insidedoor_01/10-1/['10-1_cam01_assault03_place07_night_spring.mp4', '10-1_cam01_assault03_place07_night_summer.mp4', '10-1_cam01_assault03_place07_night_winter.mp4', '10-1_cam02_assault03_place07_night_spring.mp4', '10-1_cam02_assault03_place07_night_summer.mp4', '10-1_cam02_assault03_place07_night_winter.mp4', '10-1_cam03_assault03_place07_night_spring.mp4', '10-1_cam03_assault03_place07_night_summer.mp4', '10-1_cam03_assault03_place07_night_winter.mp4']\n",
      "./C:/Users/BVer/are_you_ok/video/assult/insidedoor_01/10-1/['10-1_cam01_assault03_place07_night_spring.mp4', '10-1_cam01_assault03_place07_night_summer.mp4', '10-1_cam01_assault03_place07_night_winter.mp4', '10-1_cam02_assault03_place07_night_spring.mp4', '10-1_cam02_assault03_place07_night_summer.mp4', '10-1_cam02_assault03_place07_night_winter.mp4', '10-1_cam03_assault03_place07_night_spring.mp4', '10-1_cam03_assault03_place07_night_summer.mp4', '10-1_cam03_assault03_place07_night_winter.mp4']\n",
      "./C:/Users/BVer/are_you_ok/video/assult/insidedoor_01/10-1/['10-1_cam01_assault03_place07_night_spring.mp4', '10-1_cam01_assault03_place07_night_summer.mp4', '10-1_cam01_assault03_place07_night_winter.mp4', '10-1_cam02_assault03_place07_night_spring.mp4', '10-1_cam02_assault03_place07_night_summer.mp4', '10-1_cam02_assault03_place07_night_winter.mp4', '10-1_cam03_assault03_place07_night_spring.mp4', '10-1_cam03_assault03_place07_night_summer.mp4', '10-1_cam03_assault03_place07_night_winter.mp4']\n",
      "./C:/Users/BVer/are_you_ok/video/assult/insidedoor_01/10-1/['10-1_cam01_assault03_place07_night_spring.mp4', '10-1_cam01_assault03_place07_night_summer.mp4', '10-1_cam01_assault03_place07_night_winter.mp4', '10-1_cam02_assault03_place07_night_spring.mp4', '10-1_cam02_assault03_place07_night_summer.mp4', '10-1_cam02_assault03_place07_night_winter.mp4', '10-1_cam03_assault03_place07_night_spring.mp4', '10-1_cam03_assault03_place07_night_summer.mp4', '10-1_cam03_assault03_place07_night_winter.mp4']\n",
      "./C:/Users/BVer/are_you_ok/video/assult/insidedoor_01/10-1/['10-1_cam01_assault03_place07_night_spring.mp4', '10-1_cam01_assault03_place07_night_summer.mp4', '10-1_cam01_assault03_place07_night_winter.mp4', '10-1_cam02_assault03_place07_night_spring.mp4', '10-1_cam02_assault03_place07_night_summer.mp4', '10-1_cam02_assault03_place07_night_winter.mp4', '10-1_cam03_assault03_place07_night_spring.mp4', '10-1_cam03_assault03_place07_night_summer.mp4', '10-1_cam03_assault03_place07_night_winter.mp4']\n",
      "./C:\\Users\\BVer\\are_you_ok\\video\\assult\\insidedoor_01\\10-1\\10-1_cam01_assault03_place07_night_spring/['normal', 'pushing', 'kicking', 'pulling', 'punching', 'falldown']\n",
      "./C:\\Users\\BVer\\are_you_ok\\video\\assult\\insidedoor_01\\10-1\\10-1_cam01_assault03_place07_night_spring/['normal', 'pushing', 'kicking', 'pulling', 'punching', 'falldown']\n",
      "./C:\\Users\\BVer\\are_you_ok\\video\\assult\\insidedoor_01\\10-1\\10-1_cam01_assault03_place07_night_spring/['normal', 'pushing', 'kicking', 'pulling', 'punching', 'falldown']\n",
      "./C:\\Users\\BVer\\are_you_ok\\video\\assult\\insidedoor_01\\10-1\\10-1_cam01_assault03_place07_night_spring/['normal', 'pushing', 'kicking', 'pulling', 'punching', 'falldown']\n",
      "./C:\\Users\\BVer\\are_you_ok\\video\\assult\\insidedoor_01\\10-1\\10-1_cam01_assault03_place07_night_spring/['normal', 'pushing', 'kicking', 'pulling', 'punching', 'falldown']\n",
      "./C:\\Users\\BVer\\are_you_ok\\video\\assult\\insidedoor_01\\10-1\\10-1_cam01_assault03_place07_night_spring/['normal', 'pushing', 'kicking', 'pulling', 'punching', 'falldown']\n"
     ]
    }
   ],
   "source": [
    "try: #name 폴더 만들기\n",
    "    os.makedirs(\"./preprocessing\")\n",
    "except:\n",
    "    pass\n",
    "\n",
    "root_dir = 'C:/Users/BVer/are_you_ok'\n",
    "video_dir = root_dir + '/video/assult/insidedoor_01/'\n",
    "\n",
    "sub_folder_name = []\n",
    "sub_folder_name = find_file_fullname(video_dir)\n",
    "\n",
    "for name in sub_folder_name:\n",
    "    video_path = []\n",
    "    video_path = find_mp4(name, r'*.mp4')\n",
    "#     print(video_path)\n",
    "    make_dir(name, path_to_filename(video_path))\n",
    "\n",
    "    for file in video_path:\n",
    "        #xml 파일 정보 확인\n",
    "        frame_cutting(file, load_xmldata(file[:-4]))\n",
    "    \n",
    "#     #프레임 이미지에서 스켈레톤 따기 (프레임 수 확인해서 엑션에 있으면 각각의 엑션 폴더에 아니면 일반 폴더에 이미지 저장, csv에 행동명과 landmark 좌표 저장)"
   ]
  },
  {
   "cell_type": "code",
   "execution_count": null,
   "id": "a3ca5e24-89fe-42d4-9aa2-169edcf41b9c",
   "metadata": {},
   "outputs": [],
   "source": []
  }
 ],
 "metadata": {
  "kernelspec": {
   "display_name": "Python 3",
   "language": "python",
   "name": "python3"
  },
  "language_info": {
   "codemirror_mode": {
    "name": "ipython",
    "version": 3
   },
   "file_extension": ".py",
   "mimetype": "text/x-python",
   "name": "python",
   "nbconvert_exporter": "python",
   "pygments_lexer": "ipython3",
   "version": "3.7.10"
  }
 },
 "nbformat": 4,
 "nbformat_minor": 5
}
