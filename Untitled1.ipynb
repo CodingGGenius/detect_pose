{
 "cells": [
  {
   "cell_type": "code",
   "execution_count": 35,
   "id": "67bce9a2",
   "metadata": {},
   "outputs": [],
   "source": [
    "import pathlib\n",
    "import os\n",
    "import ntpath"
   ]
  },
  {
   "cell_type": "code",
   "execution_count": 43,
   "id": "1e79fd11",
   "metadata": {
    "scrolled": true
   },
   "outputs": [],
   "source": [
    "def find_file_fullname(fileDir):\n",
    "    file_name = []\n",
    "    for name in os.listdir(fileDir):\n",
    "        file_name.append(name)\n",
    "    return file_name\n",
    "\n",
    "#name 폴더 만들기\n",
    "def make_dir(root_dir, dir_name):\n",
    "    folder_list = []\n",
    "    for i in dir_name:\n",
    "        try: \n",
    "            if i not in folder_list:\n",
    "                print(\"{0}/{1}\".format(root_dir, i))\n",
    "                os.makedirs(\"{0}/{1}\".format(root_dir, i))\n",
    "                folder_list.append(dir_name)\n",
    "\n",
    "        except:\n",
    "            pass\n",
    "    return folder_list"
   ]
  },
  {
   "cell_type": "code",
   "execution_count": 47,
   "id": "cf04f8f3",
   "metadata": {},
   "outputs": [
    {
     "name": "stdout",
     "output_type": "stream",
     "text": [
      "['kicking', 'punching', 'pushing', 'tread']\n",
      "./preprocessing/kicking\n",
      "./preprocessing/punching\n",
      "./preprocessing/pushing\n",
      "./preprocessing/tread\n",
      "preprocessing start\n",
      "['kicking1.mp4', 'kicking2.mp4', 'kicking3.mp4', 'kicking4.mp4', 'kicking5.mp4', 'kicking6.mp4', 'kicking7.mp4', 'kicking8.mp4']\n",
      "./preprocessing/kicking\n",
      "./preprocessing/kicking\n",
      "./preprocessing/kicking\n",
      "./preprocessing/kicking\n",
      "./preprocessing/kicking\n",
      "./preprocessing/kicking\n",
      "./preprocessing/kicking\n",
      "./preprocessing/kicking\n",
      "['punching1.mp4', 'punching10.mp4', 'punching11.mp4', 'punching12.mp4', 'punching2.mp4', 'punching3.mp4', 'punching4.mp4', 'punching5.mp4', 'punching6.mp4', 'punching7.mp4', 'punching8.mp4', 'punching9.mp4']\n",
      "./preprocessing/punching\n",
      "./preprocessing/punching\n",
      "./preprocessing/punching\n",
      "./preprocessing/punching\n",
      "./preprocessing/punching\n",
      "./preprocessing/punching\n",
      "./preprocessing/punching\n",
      "./preprocessing/punching\n",
      "./preprocessing/punching\n",
      "./preprocessing/punching\n",
      "./preprocessing/punching\n",
      "./preprocessing/punching\n",
      "['pushing1.mp4', 'pushing10.mp4', 'pushing11.mp4', 'pushing12.mp4', 'pushing2.mp4', 'pushing3.mp4', 'pushing4.mp4', 'pushing5.mp4', 'pushing6.mp4', 'pushing7.mp4', 'pushing8.mp4', 'pushing9.mp4']\n",
      "./preprocessing/pushing\n",
      "./preprocessing/pushing\n",
      "./preprocessing/pushing\n",
      "./preprocessing/pushing\n",
      "./preprocessing/pushing\n",
      "./preprocessing/pushing\n",
      "./preprocessing/pushing\n",
      "./preprocessing/pushing\n",
      "./preprocessing/pushing\n",
      "./preprocessing/pushing\n",
      "./preprocessing/pushing\n",
      "./preprocessing/pushing\n",
      "['thread1.mp4', 'thread2.mp4', 'thread3.mp4', 'thread4.mp4', 'thread5.mp4', 'thread6.mp4', 'thread7.mp4', 'thread8.mp4']\n",
      "./preprocessing/tread\n",
      "./preprocessing/tread\n",
      "./preprocessing/tread\n",
      "./preprocessing/tread\n",
      "./preprocessing/tread\n",
      "./preprocessing/tread\n",
      "./preprocessing/tread\n",
      "./preprocessing/tread\n"
     ]
    }
   ],
   "source": [
    "now = '/'\n",
    "root_dir = 'C:/Users/chltp/detect_video'\n",
    "video_dir = root_dir + '/datavideo' + now\n",
    "\n",
    "# try: #name 폴더 만들기\n",
    "#     os.makedirs(\"./preprocessing\" + now)\n",
    "# except:\n",
    "#     pass\n",
    "\n",
    "action_list = []\n",
    "action_list = find_file_fullname(video_dir)\n",
    "print(action_list)\n",
    "make_dir(\"./preprocessing\", action_list)\n",
    "\n",
    "i = []\n",
    "print('preprocessing start')\n",
    "for name in action_list:\n",
    "    video_path = []\n",
    "    video_path = find_file_fullname(video_dir+name)\n",
    "    print(video_path)\n",
    "    save_path = \"./preprocessing/\"+ name        \n",
    "    frame_cutting(save_path, file, load_xmldata(save_path, file[:-4]))\n",
    "    print('-F----' + file + '-----')\n",
    "print('-F----' + name + '-----')\n"
   ]
  },
  {
   "cell_type": "code",
   "execution_count": null,
   "id": "caf89cfa",
   "metadata": {},
   "outputs": [],
   "source": []
  }
 ],
 "metadata": {
  "kernelspec": {
   "display_name": "Python 3",
   "language": "python",
   "name": "python3"
  },
  "language_info": {
   "codemirror_mode": {
    "name": "ipython",
    "version": 3
   },
   "file_extension": ".py",
   "mimetype": "text/x-python",
   "name": "python",
   "nbconvert_exporter": "python",
   "pygments_lexer": "ipython3",
   "version": "3.7.10"
  }
 },
 "nbformat": 4,
 "nbformat_minor": 5
}
