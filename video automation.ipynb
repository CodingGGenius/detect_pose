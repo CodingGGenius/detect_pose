{
 "cells": [
  {
   "cell_type": "code",
   "execution_count": 1,
   "id": "67bce9a2",
   "metadata": {},
   "outputs": [],
   "source": [
    "import pathlib\n",
    "import os\n",
    "import ntpath"
   ]
  },
  {
   "cell_type": "code",
   "execution_count": 2,
   "id": "1e79fd11",
   "metadata": {
    "scrolled": true
   },
   "outputs": [],
   "source": [
    "def find_file_fullname(fileDir):\n",
    "    file_name = []\n",
    "    for name in os.listdir(fileDir):\n",
    "        file_name.append(name)\n",
    "    return file_name\n",
    "\n",
    "#name 폴더 만들기\n",
    "def make_dir(root_dir, dir_name):\n",
    "    folder_list = []\n",
    "    for i in dir_name:\n",
    "        try: \n",
    "            if i not in folder_list:\n",
    "                print(\"{0}/{1}\".format(root_dir, i))\n",
    "                os.makedirs(\"{0}/{1}\".format(root_dir, i))\n",
    "                folder_list.append(dir_name)\n",
    "\n",
    "        except:\n",
    "            pass\n",
    "    return folder_list"
   ]
  },
  {
   "cell_type": "code",
   "execution_count": 11,
   "id": "cf04f8f3",
   "metadata": {},
   "outputs": [
    {
     "name": "stdout",
     "output_type": "stream",
     "text": [
      "['kicking', 'punching', 'pushing', 'tread']\n",
      "./preprocessing/kicking\n",
      "./preprocessing/punching\n",
      "./preprocessing/pushing\n",
      "./preprocessing/tread\n",
      "preprocessing start\n",
      "['kicking1.mp4', 'kicking2.mp4', 'kicking3.mp4', 'kicking4.mp4', 'kicking5.mp4', 'kicking6.mp4', 'kicking7.mp4', 'kicking8.mp4']\n",
      "C:/Users/chltp/detect_video/datavideo/kicking/kicking1.mp4\n",
      "C:/Users/chltp/detect_video/datavideo/kicking/kicking2.mp4\n",
      "C:/Users/chltp/detect_video/datavideo/kicking/kicking3.mp4\n",
      "C:/Users/chltp/detect_video/datavideo/kicking/kicking4.mp4\n",
      "C:/Users/chltp/detect_video/datavideo/kicking/kicking5.mp4\n",
      "C:/Users/chltp/detect_video/datavideo/kicking/kicking6.mp4\n",
      "C:/Users/chltp/detect_video/datavideo/kicking/kicking7.mp4\n",
      "C:/Users/chltp/detect_video/datavideo/kicking/kicking8.mp4\n",
      "['punching1.mp4', 'punching10.mp4', 'punching11.mp4', 'punching12.mp4', 'punching2.mp4', 'punching3.mp4', 'punching4.mp4', 'punching5.mp4', 'punching6.mp4', 'punching7.mp4', 'punching8.mp4', 'punching9.mp4']\n",
      "C:/Users/chltp/detect_video/datavideo/punching/punching1.mp4\n",
      "C:/Users/chltp/detect_video/datavideo/punching/punching10.mp4\n",
      "C:/Users/chltp/detect_video/datavideo/punching/punching11.mp4\n",
      "C:/Users/chltp/detect_video/datavideo/punching/punching12.mp4\n",
      "C:/Users/chltp/detect_video/datavideo/punching/punching2.mp4\n",
      "C:/Users/chltp/detect_video/datavideo/punching/punching3.mp4\n",
      "C:/Users/chltp/detect_video/datavideo/punching/punching4.mp4\n",
      "C:/Users/chltp/detect_video/datavideo/punching/punching5.mp4\n",
      "C:/Users/chltp/detect_video/datavideo/punching/punching6.mp4\n",
      "C:/Users/chltp/detect_video/datavideo/punching/punching7.mp4\n",
      "C:/Users/chltp/detect_video/datavideo/punching/punching8.mp4\n",
      "C:/Users/chltp/detect_video/datavideo/punching/punching9.mp4\n",
      "['pushing1.mp4', 'pushing10.mp4', 'pushing11.mp4', 'pushing12.mp4', 'pushing2.mp4', 'pushing3.mp4', 'pushing4.mp4', 'pushing5.mp4', 'pushing6.mp4', 'pushing7.mp4', 'pushing8.mp4', 'pushing9.mp4']\n",
      "C:/Users/chltp/detect_video/datavideo/pushing/pushing1.mp4\n",
      "C:/Users/chltp/detect_video/datavideo/pushing/pushing10.mp4\n",
      "C:/Users/chltp/detect_video/datavideo/pushing/pushing11.mp4\n",
      "C:/Users/chltp/detect_video/datavideo/pushing/pushing12.mp4\n",
      "C:/Users/chltp/detect_video/datavideo/pushing/pushing2.mp4\n",
      "C:/Users/chltp/detect_video/datavideo/pushing/pushing3.mp4\n",
      "C:/Users/chltp/detect_video/datavideo/pushing/pushing4.mp4\n",
      "C:/Users/chltp/detect_video/datavideo/pushing/pushing5.mp4\n",
      "C:/Users/chltp/detect_video/datavideo/pushing/pushing6.mp4\n",
      "C:/Users/chltp/detect_video/datavideo/pushing/pushing7.mp4\n",
      "C:/Users/chltp/detect_video/datavideo/pushing/pushing8.mp4\n",
      "C:/Users/chltp/detect_video/datavideo/pushing/pushing9.mp4\n",
      "['thread1.mp4', 'thread2.mp4', 'thread3.mp4', 'thread4.mp4', 'thread5.mp4', 'thread6.mp4', 'thread7.mp4', 'thread8.mp4']\n",
      "C:/Users/chltp/detect_video/datavideo/tread/thread1.mp4\n",
      "C:/Users/chltp/detect_video/datavideo/tread/thread2.mp4\n",
      "C:/Users/chltp/detect_video/datavideo/tread/thread3.mp4\n",
      "C:/Users/chltp/detect_video/datavideo/tread/thread4.mp4\n",
      "C:/Users/chltp/detect_video/datavideo/tread/thread5.mp4\n",
      "C:/Users/chltp/detect_video/datavideo/tread/thread6.mp4\n",
      "C:/Users/chltp/detect_video/datavideo/tread/thread7.mp4\n",
      "C:/Users/chltp/detect_video/datavideo/tread/thread8.mp4\n"
     ]
    }
   ],
   "source": [
    "now = '/'\n",
    "root_dir = 'C:/Users/chltp/detect_video'\n",
    "video_dir = root_dir + '/datavideo' + now\n",
    "\n",
    "try: #name 폴더 만들기\n",
    "    os.makedirs(\"./preprocessing\" + now)\n",
    "except:\n",
    "    pass\n",
    "\n",
    "action_list = []\n",
    "action_list = find_file_fullname(video_dir)\n",
    "print(action_list)\n",
    "make_dir(\"./preprocessing\", action_list)\n",
    "\n",
    "i = []\n",
    "print('preprocessing start')\n",
    "for name in action_list:\n",
    "    video_name = []\n",
    "    video_name = find_file_fullname(video_dir+name)\n",
    "    print(video_name)\n",
    "    save_path = \"./preprocessing/\"+ name\n",
    "    for i in video_name:\n",
    "        video_path=video_dir+name+now+i\n",
    "        print(video_path)\n"
   ]
  },
  {
   "cell_type": "code",
   "execution_count": null,
   "id": "caf89cfa",
   "metadata": {},
   "outputs": [],
   "source": []
  }
 ],
 "metadata": {
  "kernelspec": {
   "display_name": "Python 3",
   "language": "python",
   "name": "python3"
  },
  "language_info": {
   "codemirror_mode": {
    "name": "ipython",
    "version": 3
   },
   "file_extension": ".py",
   "mimetype": "text/x-python",
   "name": "python",
   "nbconvert_exporter": "python",
   "pygments_lexer": "ipython3",
   "version": "3.7.10"
  }
 },
 "nbformat": 4,
 "nbformat_minor": 5
}
